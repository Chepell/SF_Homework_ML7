{
 "cells": [
  {
   "cell_type": "markdown",
   "id": "AoeSkz4KaANH",
   "metadata": {
    "id": "AoeSkz4KaANH"
   },
   "source": [
    "# [Kaggle: Predicting a Biological Response](https://www.kaggle.com/c/bioresponse)\n",
    "(Прогнозирование биологического ответа)"
   ]
  },
  {
   "cell_type": "markdown",
   "id": "af628f85-6780-4b24-8212-e9946c388196",
   "metadata": {
    "id": "af628f85-6780-4b24-8212-e9946c388196",
    "tags": []
   },
   "source": [
    "##### Необходимо предсказать биологический ответ молекул (столбец 'Activity') по их химическому составу (столбцы D1-D1776)."
   ]
  },
  {
   "cell_type": "markdown",
   "id": "b8896f5c-1683-4a55-987f-60ce00207db5",
   "metadata": {
    "id": "b8896f5c-1683-4a55-987f-60ce00207db5"
   },
   "source": [
    "Данные представлены в формате CSV.  \n",
    "* Каждая строка представляет молекулу. \n",
    "* Первый столбец Activity содержит экспериментальные данные, описывающие фактический биологический ответ [0, 1]; \n",
    "* Остальные столбцы D1-D1776 представляют собой молекулярные дескрипторы — это вычисляемые свойства, которые могут фиксировать некоторые характеристики молекулы, например размер, форму или состав элементов."
   ]
  },
  {
   "cell_type": "markdown",
   "id": "343a52e1",
   "metadata": {},
   "source": [
    "Предварительная обработка не требуется, данные уже закодированы и нормализованы.\n",
    "\n",
    "В качестве метрики будем использовать F1-score.\n",
    "\n",
    "Необходимо обучить две модели: логистическую регрессию и случайный лес. \n",
    "\n",
    "Далее нужно сделать подбор гиперпараметров с помощью базовых и продвинутых методов оптимизации. \n",
    "\n",
    "Важно использовать все четыре метода (GridSeachCV, RandomizedSearchCV, Hyperopt, Optuna) хотя бы по разу, максимальное количество итераций не должно превышать 50."
   ]
  },
  {
   "cell_type": "markdown",
   "id": "09e3a7b3",
   "metadata": {},
   "source": [
    "[Скачать данные](https://lms.skillfactory.ru/assets/courseware/v1/9f2add5bca59f8c4df927432d605fff3/asset-v1:SkillFactory+DSPR-2.0+14JULY2021+type@asset+block/_train_sem09__1_.zip)"
   ]
  },
  {
   "cell_type": "code",
   "execution_count": 1,
   "id": "d8q91-MSaAOG",
   "metadata": {
    "id": "d8q91-MSaAOG"
   },
   "outputs": [],
   "source": [
    "# импорт библиотек\n",
    "import numpy as np # для матричных вычислений\n",
    "import pandas as pd # для анализа и предобработки данных\n",
    "import matplotlib.pyplot as plt # для визуализации\n",
    "import seaborn as sns # для визуализации\n",
    "\n",
    "from sklearn import linear_model # линейные моделиё\n",
    "from sklearn import tree # деревья решений\n",
    "from sklearn import ensemble # ансамбли\n",
    "from sklearn import metrics # метрики\n",
    "from sklearn import preprocessing # предобработка\n",
    "from sklearn import model_selection\n",
    "from sklearn.model_selection import train_test_split # сплитование выборки\n",
    "\n",
    "%matplotlib inline\n",
    "plt.style.use('seaborn')"
   ]
  },
  {
   "cell_type": "code",
   "execution_count": 2,
   "id": "2bb83528",
   "metadata": {},
   "outputs": [],
   "source": [
    "from sklearn.model_selection import StratifiedKFold\n",
    "from sklearn.model_selection import GridSearchCV\n",
    "from sklearn.model_selection import RandomizedSearchCV"
   ]
  },
  {
   "cell_type": "markdown",
   "id": "8lbyun1kaAOy",
   "metadata": {
    "id": "8lbyun1kaAOy",
    "tags": []
   },
   "source": [
    "### Знакомство с данными и их исследование"
   ]
  },
  {
   "cell_type": "code",
   "execution_count": 3,
   "id": "p770SmlfaAO3",
   "metadata": {
    "colab": {
     "base_uri": "https://localhost:8080/",
     "height": 223
    },
    "executionInfo": {
     "elapsed": 40242,
     "status": "ok",
     "timestamp": 1650553529870,
     "user": {
      "displayName": "VICDS _",
      "userId": "16539764637744847477"
     },
     "user_tz": -180
    },
    "id": "p770SmlfaAO3",
    "outputId": "d6f8209e-05bf-452c-dd16-2f5725c31f1a"
   },
   "outputs": [
    {
     "data": {
      "text/html": [
       "<div>\n",
       "<style scoped>\n",
       "    .dataframe tbody tr th:only-of-type {\n",
       "        vertical-align: middle;\n",
       "    }\n",
       "\n",
       "    .dataframe tbody tr th {\n",
       "        vertical-align: top;\n",
       "    }\n",
       "\n",
       "    .dataframe thead th {\n",
       "        text-align: right;\n",
       "    }\n",
       "</style>\n",
       "<table border=\"1\" class=\"dataframe\">\n",
       "  <thead>\n",
       "    <tr style=\"text-align: right;\">\n",
       "      <th></th>\n",
       "      <th>Activity</th>\n",
       "      <th>D1</th>\n",
       "      <th>D2</th>\n",
       "      <th>D3</th>\n",
       "      <th>D4</th>\n",
       "      <th>D5</th>\n",
       "      <th>D6</th>\n",
       "      <th>D7</th>\n",
       "      <th>D8</th>\n",
       "      <th>D9</th>\n",
       "      <th>...</th>\n",
       "      <th>D1767</th>\n",
       "      <th>D1768</th>\n",
       "      <th>D1769</th>\n",
       "      <th>D1770</th>\n",
       "      <th>D1771</th>\n",
       "      <th>D1772</th>\n",
       "      <th>D1773</th>\n",
       "      <th>D1774</th>\n",
       "      <th>D1775</th>\n",
       "      <th>D1776</th>\n",
       "    </tr>\n",
       "  </thead>\n",
       "  <tbody>\n",
       "    <tr>\n",
       "      <th>0</th>\n",
       "      <td>1</td>\n",
       "      <td>0.000000</td>\n",
       "      <td>0.497009</td>\n",
       "      <td>0.10</td>\n",
       "      <td>0.0</td>\n",
       "      <td>0.132956</td>\n",
       "      <td>0.678031</td>\n",
       "      <td>0.273166</td>\n",
       "      <td>0.585445</td>\n",
       "      <td>0.743663</td>\n",
       "      <td>...</td>\n",
       "      <td>0</td>\n",
       "      <td>0</td>\n",
       "      <td>0</td>\n",
       "      <td>0</td>\n",
       "      <td>0</td>\n",
       "      <td>0</td>\n",
       "      <td>0</td>\n",
       "      <td>0</td>\n",
       "      <td>0</td>\n",
       "      <td>0</td>\n",
       "    </tr>\n",
       "    <tr>\n",
       "      <th>1</th>\n",
       "      <td>1</td>\n",
       "      <td>0.366667</td>\n",
       "      <td>0.606291</td>\n",
       "      <td>0.05</td>\n",
       "      <td>0.0</td>\n",
       "      <td>0.111209</td>\n",
       "      <td>0.803455</td>\n",
       "      <td>0.106105</td>\n",
       "      <td>0.411754</td>\n",
       "      <td>0.836582</td>\n",
       "      <td>...</td>\n",
       "      <td>1</td>\n",
       "      <td>1</td>\n",
       "      <td>1</td>\n",
       "      <td>1</td>\n",
       "      <td>0</td>\n",
       "      <td>1</td>\n",
       "      <td>0</td>\n",
       "      <td>0</td>\n",
       "      <td>1</td>\n",
       "      <td>0</td>\n",
       "    </tr>\n",
       "    <tr>\n",
       "      <th>2</th>\n",
       "      <td>1</td>\n",
       "      <td>0.033300</td>\n",
       "      <td>0.480124</td>\n",
       "      <td>0.00</td>\n",
       "      <td>0.0</td>\n",
       "      <td>0.209791</td>\n",
       "      <td>0.610350</td>\n",
       "      <td>0.356453</td>\n",
       "      <td>0.517720</td>\n",
       "      <td>0.679051</td>\n",
       "      <td>...</td>\n",
       "      <td>0</td>\n",
       "      <td>0</td>\n",
       "      <td>0</td>\n",
       "      <td>0</td>\n",
       "      <td>0</td>\n",
       "      <td>0</td>\n",
       "      <td>0</td>\n",
       "      <td>0</td>\n",
       "      <td>0</td>\n",
       "      <td>0</td>\n",
       "    </tr>\n",
       "    <tr>\n",
       "      <th>3</th>\n",
       "      <td>1</td>\n",
       "      <td>0.000000</td>\n",
       "      <td>0.538825</td>\n",
       "      <td>0.00</td>\n",
       "      <td>0.5</td>\n",
       "      <td>0.196344</td>\n",
       "      <td>0.724230</td>\n",
       "      <td>0.235606</td>\n",
       "      <td>0.288764</td>\n",
       "      <td>0.805110</td>\n",
       "      <td>...</td>\n",
       "      <td>0</td>\n",
       "      <td>0</td>\n",
       "      <td>0</td>\n",
       "      <td>0</td>\n",
       "      <td>0</td>\n",
       "      <td>0</td>\n",
       "      <td>0</td>\n",
       "      <td>0</td>\n",
       "      <td>0</td>\n",
       "      <td>0</td>\n",
       "    </tr>\n",
       "    <tr>\n",
       "      <th>4</th>\n",
       "      <td>0</td>\n",
       "      <td>0.100000</td>\n",
       "      <td>0.517794</td>\n",
       "      <td>0.00</td>\n",
       "      <td>0.0</td>\n",
       "      <td>0.494734</td>\n",
       "      <td>0.781422</td>\n",
       "      <td>0.154361</td>\n",
       "      <td>0.303809</td>\n",
       "      <td>0.812646</td>\n",
       "      <td>...</td>\n",
       "      <td>0</td>\n",
       "      <td>0</td>\n",
       "      <td>0</td>\n",
       "      <td>0</td>\n",
       "      <td>0</td>\n",
       "      <td>0</td>\n",
       "      <td>0</td>\n",
       "      <td>0</td>\n",
       "      <td>0</td>\n",
       "      <td>0</td>\n",
       "    </tr>\n",
       "    <tr>\n",
       "      <th>...</th>\n",
       "      <td>...</td>\n",
       "      <td>...</td>\n",
       "      <td>...</td>\n",
       "      <td>...</td>\n",
       "      <td>...</td>\n",
       "      <td>...</td>\n",
       "      <td>...</td>\n",
       "      <td>...</td>\n",
       "      <td>...</td>\n",
       "      <td>...</td>\n",
       "      <td>...</td>\n",
       "      <td>...</td>\n",
       "      <td>...</td>\n",
       "      <td>...</td>\n",
       "      <td>...</td>\n",
       "      <td>...</td>\n",
       "      <td>...</td>\n",
       "      <td>...</td>\n",
       "      <td>...</td>\n",
       "      <td>...</td>\n",
       "      <td>...</td>\n",
       "    </tr>\n",
       "    <tr>\n",
       "      <th>3746</th>\n",
       "      <td>1</td>\n",
       "      <td>0.033300</td>\n",
       "      <td>0.506409</td>\n",
       "      <td>0.10</td>\n",
       "      <td>0.0</td>\n",
       "      <td>0.209887</td>\n",
       "      <td>0.633426</td>\n",
       "      <td>0.297659</td>\n",
       "      <td>0.376124</td>\n",
       "      <td>0.727093</td>\n",
       "      <td>...</td>\n",
       "      <td>0</td>\n",
       "      <td>0</td>\n",
       "      <td>0</td>\n",
       "      <td>0</td>\n",
       "      <td>0</td>\n",
       "      <td>0</td>\n",
       "      <td>0</td>\n",
       "      <td>0</td>\n",
       "      <td>0</td>\n",
       "      <td>0</td>\n",
       "    </tr>\n",
       "    <tr>\n",
       "      <th>3747</th>\n",
       "      <td>1</td>\n",
       "      <td>0.133333</td>\n",
       "      <td>0.651023</td>\n",
       "      <td>0.15</td>\n",
       "      <td>0.0</td>\n",
       "      <td>0.151154</td>\n",
       "      <td>0.766505</td>\n",
       "      <td>0.170876</td>\n",
       "      <td>0.404546</td>\n",
       "      <td>0.787935</td>\n",
       "      <td>...</td>\n",
       "      <td>0</td>\n",
       "      <td>0</td>\n",
       "      <td>1</td>\n",
       "      <td>0</td>\n",
       "      <td>1</td>\n",
       "      <td>0</td>\n",
       "      <td>1</td>\n",
       "      <td>0</td>\n",
       "      <td>0</td>\n",
       "      <td>0</td>\n",
       "    </tr>\n",
       "    <tr>\n",
       "      <th>3748</th>\n",
       "      <td>0</td>\n",
       "      <td>0.200000</td>\n",
       "      <td>0.520564</td>\n",
       "      <td>0.00</td>\n",
       "      <td>0.0</td>\n",
       "      <td>0.179949</td>\n",
       "      <td>0.768785</td>\n",
       "      <td>0.177341</td>\n",
       "      <td>0.471179</td>\n",
       "      <td>0.872241</td>\n",
       "      <td>...</td>\n",
       "      <td>0</td>\n",
       "      <td>0</td>\n",
       "      <td>0</td>\n",
       "      <td>0</td>\n",
       "      <td>0</td>\n",
       "      <td>0</td>\n",
       "      <td>0</td>\n",
       "      <td>0</td>\n",
       "      <td>0</td>\n",
       "      <td>0</td>\n",
       "    </tr>\n",
       "    <tr>\n",
       "      <th>3749</th>\n",
       "      <td>1</td>\n",
       "      <td>0.100000</td>\n",
       "      <td>0.765646</td>\n",
       "      <td>0.00</td>\n",
       "      <td>0.0</td>\n",
       "      <td>0.536954</td>\n",
       "      <td>0.634936</td>\n",
       "      <td>0.342713</td>\n",
       "      <td>0.447162</td>\n",
       "      <td>0.672689</td>\n",
       "      <td>...</td>\n",
       "      <td>0</td>\n",
       "      <td>0</td>\n",
       "      <td>0</td>\n",
       "      <td>0</td>\n",
       "      <td>0</td>\n",
       "      <td>0</td>\n",
       "      <td>0</td>\n",
       "      <td>0</td>\n",
       "      <td>0</td>\n",
       "      <td>0</td>\n",
       "    </tr>\n",
       "    <tr>\n",
       "      <th>3750</th>\n",
       "      <td>0</td>\n",
       "      <td>0.133333</td>\n",
       "      <td>0.533952</td>\n",
       "      <td>0.00</td>\n",
       "      <td>0.0</td>\n",
       "      <td>0.347966</td>\n",
       "      <td>0.757971</td>\n",
       "      <td>0.230667</td>\n",
       "      <td>0.272652</td>\n",
       "      <td>0.854116</td>\n",
       "      <td>...</td>\n",
       "      <td>0</td>\n",
       "      <td>0</td>\n",
       "      <td>0</td>\n",
       "      <td>0</td>\n",
       "      <td>0</td>\n",
       "      <td>0</td>\n",
       "      <td>0</td>\n",
       "      <td>0</td>\n",
       "      <td>0</td>\n",
       "      <td>0</td>\n",
       "    </tr>\n",
       "  </tbody>\n",
       "</table>\n",
       "<p>3751 rows × 1777 columns</p>\n",
       "</div>"
      ],
      "text/plain": [
       "      Activity        D1        D2    D3   D4        D5        D6        D7  \\\n",
       "0            1  0.000000  0.497009  0.10  0.0  0.132956  0.678031  0.273166   \n",
       "1            1  0.366667  0.606291  0.05  0.0  0.111209  0.803455  0.106105   \n",
       "2            1  0.033300  0.480124  0.00  0.0  0.209791  0.610350  0.356453   \n",
       "3            1  0.000000  0.538825  0.00  0.5  0.196344  0.724230  0.235606   \n",
       "4            0  0.100000  0.517794  0.00  0.0  0.494734  0.781422  0.154361   \n",
       "...        ...       ...       ...   ...  ...       ...       ...       ...   \n",
       "3746         1  0.033300  0.506409  0.10  0.0  0.209887  0.633426  0.297659   \n",
       "3747         1  0.133333  0.651023  0.15  0.0  0.151154  0.766505  0.170876   \n",
       "3748         0  0.200000  0.520564  0.00  0.0  0.179949  0.768785  0.177341   \n",
       "3749         1  0.100000  0.765646  0.00  0.0  0.536954  0.634936  0.342713   \n",
       "3750         0  0.133333  0.533952  0.00  0.0  0.347966  0.757971  0.230667   \n",
       "\n",
       "            D8        D9  ...  D1767  D1768  D1769  D1770  D1771  D1772  \\\n",
       "0     0.585445  0.743663  ...      0      0      0      0      0      0   \n",
       "1     0.411754  0.836582  ...      1      1      1      1      0      1   \n",
       "2     0.517720  0.679051  ...      0      0      0      0      0      0   \n",
       "3     0.288764  0.805110  ...      0      0      0      0      0      0   \n",
       "4     0.303809  0.812646  ...      0      0      0      0      0      0   \n",
       "...        ...       ...  ...    ...    ...    ...    ...    ...    ...   \n",
       "3746  0.376124  0.727093  ...      0      0      0      0      0      0   \n",
       "3747  0.404546  0.787935  ...      0      0      1      0      1      0   \n",
       "3748  0.471179  0.872241  ...      0      0      0      0      0      0   \n",
       "3749  0.447162  0.672689  ...      0      0      0      0      0      0   \n",
       "3750  0.272652  0.854116  ...      0      0      0      0      0      0   \n",
       "\n",
       "      D1773  D1774  D1775  D1776  \n",
       "0         0      0      0      0  \n",
       "1         0      0      1      0  \n",
       "2         0      0      0      0  \n",
       "3         0      0      0      0  \n",
       "4         0      0      0      0  \n",
       "...     ...    ...    ...    ...  \n",
       "3746      0      0      0      0  \n",
       "3747      1      0      0      0  \n",
       "3748      0      0      0      0  \n",
       "3749      0      0      0      0  \n",
       "3750      0      0      0      0  \n",
       "\n",
       "[3751 rows x 1777 columns]"
      ]
     },
     "execution_count": 3,
     "metadata": {},
     "output_type": "execute_result"
    }
   ],
   "source": [
    "data = pd.read_csv('data/_train_sem09__1_.zip')\n",
    "data"
   ]
  },
  {
   "cell_type": "code",
   "execution_count": 4,
   "id": "4a1f2f37",
   "metadata": {},
   "outputs": [],
   "source": [
    "TARGET_FEATURE = 'Activity'"
   ]
  },
  {
   "cell_type": "markdown",
   "id": "g2w-AD7uaAPK",
   "metadata": {
    "id": "g2w-AD7uaAPK"
   },
   "source": [
    "Проверяем наличие пропусков"
   ]
  },
  {
   "cell_type": "code",
   "execution_count": 5,
   "id": "-0L4fYsbaAPP",
   "metadata": {
    "colab": {
     "base_uri": "https://localhost:8080/"
    },
    "executionInfo": {
     "elapsed": 100,
     "status": "ok",
     "timestamp": 1650553529889,
     "user": {
      "displayName": "VICDS _",
      "userId": "16539764637744847477"
     },
     "user_tz": -180
    },
    "id": "-0L4fYsbaAPP",
    "outputId": "e5f3ce35-3c90-428a-9831-27dda4dd292c"
   },
   "outputs": [
    {
     "data": {
      "text/plain": [
       "Series([], dtype: int64)"
      ]
     },
     "execution_count": 5,
     "metadata": {},
     "output_type": "execute_result"
    }
   ],
   "source": [
    "empty_cols = data.isnull().sum()\n",
    "empty_cols[empty_cols > 0]"
   ]
  },
  {
   "cell_type": "code",
   "execution_count": 6,
   "id": "884455d1",
   "metadata": {},
   "outputs": [
    {
     "name": "stdout",
     "output_type": "stream",
     "text": [
      "<class 'pandas.core.frame.DataFrame'>\n",
      "RangeIndex: 3751 entries, 0 to 3750\n",
      "Columns: 1777 entries, Activity to D1776\n",
      "dtypes: float64(942), int64(835)\n",
      "memory usage: 50.9 MB\n"
     ]
    }
   ],
   "source": [
    "data.info()"
   ]
  },
  {
   "cell_type": "markdown",
   "id": "0jbyUoPlaAPc",
   "metadata": {
    "id": "0jbyUoPlaAPc"
   },
   "source": [
    "Смотрим на сбалансированность классов:"
   ]
  },
  {
   "cell_type": "code",
   "execution_count": 7,
   "id": "PPo2xmRdaAPf",
   "metadata": {
    "colab": {
     "base_uri": "https://localhost:8080/",
     "height": 361
    },
    "executionInfo": {
     "elapsed": 1087,
     "status": "ok",
     "timestamp": 1650553530901,
     "user": {
      "displayName": "VICDS _",
      "userId": "16539764637744847477"
     },
     "user_tz": -180
    },
    "id": "PPo2xmRdaAPf",
    "outputId": "4db04fd7-a921-4f20-ce92-b8294d0f3d2a"
   },
   "outputs": [
    {
     "data": {
      "image/png": "[encoded data removed]",
      "text/plain": [
       "<Figure size 576x396 with 1 Axes>"
      ]
     },
     "metadata": {},
     "output_type": "display_data"
    }
   ],
   "source": [
    "sns.countplot(data=data, x=TARGET_FEATURE);"
   ]
  },
  {
   "cell_type": "code",
   "execution_count": 8,
   "id": "d4d00198",
   "metadata": {},
   "outputs": [
    {
     "data": {
      "text/plain": [
       "1    54.22554\n",
       "0    45.77446\n",
       "Name: Activity, dtype: float64"
      ]
     },
     "execution_count": 8,
     "metadata": {},
     "output_type": "execute_result"
    }
   ],
   "source": [
    "data[TARGET_FEATURE].value_counts(True) * 100"
   ]
  },
  {
   "cell_type": "markdown",
   "id": "48bcc14a",
   "metadata": {},
   "source": [
    "Классы немного не сбалансированны. Использую стратификацию при разделении выборки."
   ]
  },
  {
   "cell_type": "markdown",
   "id": "8p3eELnEaAQW",
   "metadata": {
    "id": "8p3eELnEaAQW"
   },
   "source": [
    "Создаем матрицу наблюдений $X$ и вектор ответов $y$"
   ]
  },
  {
   "cell_type": "code",
   "execution_count": 9,
   "id": "_2GncsCbaAQY",
   "metadata": {
    "id": "_2GncsCbaAQY"
   },
   "outputs": [],
   "source": [
    "X, y = data.drop(columns=TARGET_FEATURE), data[TARGET_FEATURE]"
   ]
  },
  {
   "cell_type": "markdown",
   "id": "q4SyRSFhaAQZ",
   "metadata": {
    "id": "q4SyRSFhaAQZ"
   },
   "source": [
    "* Разделяем выборку на тренировочную и тестовую в соотношении 80/20. \n",
    "* Для сохранения соотношений целевого признака используем параметр stratify (стратифицированное разбиение). "
   ]
  },
  {
   "cell_type": "code",
   "execution_count": 10,
   "id": "Fl_eJIInaAQa",
   "metadata": {
    "id": "Fl_eJIInaAQa"
   },
   "outputs": [],
   "source": [
    "X_train, X_test, y_train, y_test = train_test_split(X, y, stratify=y, random_state = 42, test_size = 0.2)"
   ]
  },
  {
   "cell_type": "code",
   "execution_count": 11,
   "id": "5d03d269",
   "metadata": {},
   "outputs": [],
   "source": [
    "random_state = 42"
   ]
  },
  {
   "cell_type": "markdown",
   "id": "CE7v-medaAQh",
   "metadata": {
    "id": "CE7v-medaAQh",
    "tags": []
   },
   "source": [
    "# **Логистическая регрессия**\n",
    "### С гиперпараметрами по умолчанию"
   ]
  },
  {
   "cell_type": "code",
   "execution_count": 12,
   "id": "0aMCHU3-aAQn",
   "metadata": {
    "colab": {
     "base_uri": "https://localhost:8080/"
    },
    "executionInfo": {
     "elapsed": 160,
     "status": "ok",
     "timestamp": 1650547896821,
     "user": {
      "displayName": "VICDS _",
      "userId": "16539764637744847477"
     },
     "user_tz": -180
    },
    "id": "0aMCHU3-aAQn",
    "outputId": "ce2823fa-1cb5-4ec5-dd51-fec74d3ccd33"
   },
   "outputs": [
    {
     "name": "stdout",
     "output_type": "stream",
     "text": [
      "f1_score на train наборе: 0.89\n",
      "f1_score на test наборе: 0.78\n"
     ]
    }
   ],
   "source": [
    "# Создаем объект класса логистическая регрессия\n",
    "model = linear_model.LogisticRegression(max_iter=10000)\n",
    "\n",
    "# Обучаем модель, минимизируя logloss\n",
    "model.fit(X_train, y_train)\n",
    "y_train_pred = model.predict(X_train)\n",
    "y_test_pred = model.predict(X_test)\n",
    "\n",
    "print(f'f1_score на train наборе: {metrics.f1_score(y_train, y_train_pred):.2f}')\n",
    "print(f'f1_score на test наборе: {metrics.f1_score(y_test, y_test_pred):.2f}')"
   ]
  },
  {
   "cell_type": "markdown",
   "id": "2f73496e",
   "metadata": {},
   "source": [
    "## Подбор гиперпараметров\n",
    "#### GridSearchCV для алгоритма логистической регрессии"
   ]
  },
  {
   "cell_type": "code",
   "execution_count": 12,
   "id": "c27e9b28",
   "metadata": {},
   "outputs": [
    {
     "name": "stdout",
     "output_type": "stream",
     "text": [
      "CPU times: total: 1.14 s\n",
      "Wall time: 14min 22s\n",
      "f1_score на train наборе: 0.84\n",
      "f1_score на test наборе: 0.78\n",
      "Наилучшие значения гиперпараметров: {'C': 0.3, 'penalty': 'l1', 'solver': 'liblinear'}\n"
     ]
    }
   ],
   "source": [
    "param_grid = [\n",
    "              {'penalty': ['l2', 'none'] , # тип регуляризации\n",
    "              'solver': ['lbfgs', 'sag'], # алгоритм оптимизации\n",
    "               'C': [0.01, 0.1, 0.3, 0.5, 0.7, 0.9, 1]}, # уровень силы регурялизации\n",
    "              \n",
    "              {'penalty': ['l1', 'l2'] ,\n",
    "              'solver': ['liblinear', 'saga'],\n",
    "               'C': [0.01, 0.1, 0.3, 0.5, 0.7, 0.9, 1]}\n",
    "]\n",
    "\n",
    "model = linear_model.LogisticRegression(\n",
    "        random_state=random_state, # генератор случайных чисел\n",
    "        max_iter=1000 # количество итераций на сходимость\n",
    "    )\n",
    "\n",
    "grid_search = GridSearchCV(\n",
    "    estimator=model,\n",
    "    param_grid=param_grid,\n",
    "    cv=5,\n",
    "    n_jobs=-1,\n",
    "    scoring='f1'\n",
    ")\n",
    "\n",
    "%time grid_search.fit(X_train, y_train)\n",
    "y_train_pred = grid_search.predict(X_train)\n",
    "y_test_pred = grid_search.predict(X_test)\n",
    "\n",
    "print(f'f1_score на train наборе: {metrics.f1_score(y_train, y_train_pred):.2f}')\n",
    "print(f'f1_score на test наборе: {metrics.f1_score(y_test, y_test_pred):.2f}')\n",
    "print(f'Наилучшие значения гиперпараметров: {grid_search.best_params_}')"
   ]
  },
  {
   "cell_type": "markdown",
   "id": "dd5a7381",
   "metadata": {},
   "source": [
    "14мин ушло на поиск гиперпараметров по сетке и без кросс-валидации. При этом метрика на тестовой выборке не улучшилась"
   ]
  },
  {
   "cell_type": "markdown",
   "id": "d6df60f4",
   "metadata": {},
   "source": [
    "### GridSearchCV для алгоритма логистической регрессии с кросс-валидацией"
   ]
  },
  {
   "cell_type": "code",
   "execution_count": 13,
   "id": "0f75c894",
   "metadata": {},
   "outputs": [],
   "source": [
    "param_grid = [\n",
    "              {'penalty': ['l2', 'none'] , # тип регуляризации\n",
    "              'solver': ['lbfgs', 'sag'], # алгоритм оптимизации\n",
    "               'C': [0.01, 0.1, 0.3, 0.5, 0.7, 0.9, 1]}, # уровень силы регурялизации\n",
    "              \n",
    "              {'penalty': ['l1', 'l2'] ,\n",
    "              'solver': ['liblinear', 'saga'],\n",
    "               'C': [0.01, 0.1, 0.3, 0.5, 0.7, 0.9, 1]}\n",
    "]\n",
    "\n",
    "model = linear_model.LogisticRegression(random_state=random_state, max_iter=10000)\n",
    "skf = StratifiedKFold(n_splits=5, shuffle=True, random_state=random_state)\n",
    "\n",
    "grid_search = GridSearchCV(\n",
    "    estimator=model,\n",
    "    param_grid=param_grid,\n",
    "    cv=skf,\n",
    "    n_jobs=-1,\n",
    "    scoring='f1'\n",
    ")\n",
    "\n",
    "%time grid_search.fit(X_train, y_train)\n",
    "y_train_pred = grid_search.predict(X_train)\n",
    "y_test_pred = grid_search.predict(X_test)\n",
    "\n",
    "print(f'f1_score на train наборе: {metrics.f1_score(y_train, y_train_pred):.2f}')\n",
    "print(f'f1_score на test наборе: {metrics.f1_score(y_test, y_test_pred):.2f}')\n",
    "print(f'Наилучшие значения гиперпараметров: {grid_search.best_params_}')"
   ]
  },
  {
   "cell_type": "markdown",
   "id": "00786f00",
   "metadata": {},
   "source": [
    "### RandomizedSearchCV для алгоритма логистической регрессии с кросс-валидацией"
   ]
  },
  {
   "cell_type": "code",
   "execution_count": 14,
   "id": "dd341b0f",
   "metadata": {},
   "outputs": [
    {
     "name": "stdout",
     "output_type": "stream",
     "text": [
      "CPU times: total: 5.72 s\n",
      "Wall time: 9min 25s\n",
      "f1_score на train наборе: 0.87\n",
      "f1_score на test наборе: 0.78\n",
      "Наилучшие значения гиперпараметров: {'solver': 'lbfgs', 'penalty': 'l2', 'C': 0.23}\n"
     ]
    }
   ],
   "source": [
    "param_distributions = [\n",
    "              {'penalty': ['l2', 'none'] , # тип регуляризации\n",
    "              'solver': ['lbfgs', 'sag'], # алгоритм оптимизации\n",
    "               'C': list(np.linspace(0.01, 1, 10, dtype=float))}, # уровень силы регурялизации\n",
    "              \n",
    "              {'penalty': ['l1', 'l2'] ,\n",
    "              'solver': ['liblinear', 'saga'],\n",
    "               'C': list(np.linspace(0.01, 1, 10, dtype=float))}\n",
    "]\n",
    "\n",
    "model = linear_model.LogisticRegression(random_state=random_state, max_iter=10000)\n",
    "skf = StratifiedKFold(n_splits=5, shuffle=True, random_state=random_state)        \n",
    "\n",
    "random_search = RandomizedSearchCV(\n",
    "    estimator=model,\n",
    "    param_distributions=param_distributions,\n",
    "    cv=skf,\n",
    "    n_jobs=-1,\n",
    "    scoring='f1'\n",
    ")\n",
    "\n",
    "%time random_search.fit(X_train, y_train)\n",
    "y_train_pred = random_search.predict(X_train)\n",
    "y_test_pred = random_search.predict(X_test)\n",
    "\n",
    "print(f'f1_score на train наборе: {metrics.f1_score(y_train, y_train_pred):.2f}')\n",
    "print(f'f1_score на test наборе: {metrics.f1_score(y_test, y_test_pred):.2f}')\n",
    "print(f'Наилучшие значения гиперпараметров: {random_search.best_params_}')"
   ]
  },
  {
   "cell_type": "markdown",
   "id": "0b859d10",
   "metadata": {},
   "source": [
    "9мин ушло алгоритму случайного поиска с кросс валидацией, метрика осталась на том же уровне, но временеи ушло значительном меньше."
   ]
  },
  {
   "cell_type": "markdown",
   "id": "4fd15b82",
   "metadata": {},
   "source": [
    "### Hyperopt"
   ]
  },
  {
   "cell_type": "code",
   "execution_count": 25,
   "id": "c01b0645",
   "metadata": {},
   "outputs": [],
   "source": [
    "from sklearn.model_selection import cross_val_score\n",
    "import hyperopt\n",
    "from hyperopt import hp, fmin, tpe, Trials"
   ]
  },
  {
   "cell_type": "code",
   "execution_count": 25,
   "id": "b9720cf5",
   "metadata": {},
   "outputs": [],
   "source": [
    "penalty_lst = ['l1', 'l2']\n",
    "solver_lst = ['liblinear', 'saga']\n",
    "\n",
    "space = {\n",
    "    'penalty': hp.choice('penalty', penalty_lst), # тип регуляризации\n",
    "    'solver': hp.choice('solver', solver_lst), # алгоритм оптимизации\n",
    "    'C': hp.quniform('C', 0.01, 1, 0.01), # уровень силы регурялизации\n",
    "}"
   ]
  },
  {
   "cell_type": "code",
   "execution_count": 26,
   "id": "a0a78b0d",
   "metadata": {},
   "outputs": [],
   "source": [
    "def hyperopt_lr(params, cv=5, X=X_train, y=y_train, random_state=random_state):\n",
    "    # создаем модель\n",
    "    model = linear_model.LogisticRegression(**params, random_state=random_state, max_iter=10000)\n",
    "    \n",
    "    if cv > 0:\n",
    "        # Создаём объект кросс-валидатора k-fold со стратификацией\n",
    "        skf = StratifiedKFold(n_splits=cv, shuffle=True, random_state=random_state)\n",
    "        \n",
    "        # Считаем метрики на кросс-валидации k-fold со стратификацией\n",
    "        cv_metrics = model_selection.cross_validate(\n",
    "            estimator=model, # модель\n",
    "            X=X, # матрица наблюдений X\n",
    "            y=y, # вектор ответов y\n",
    "            cv=skf, # кросс-валидатор\n",
    "            scoring='f1', # метрика\n",
    "            n_jobs=-1, # использовать все ядра\n",
    "            return_train_score=False # подсчёт метрики на тренировочных фолдах\n",
    "        )\n",
    "        score = np.mean(cv_metrics['test_score'])\n",
    "    else:\n",
    "        # обучаем модель без кросс валидации\n",
    "        model.fit(X, y)\n",
    "        score = metrics.f1_score(y, model.predict(X))\n",
    "\n",
    "    # метрику необходимо минимизировать, поэтому ставим знак минус\n",
    "    return -score"
   ]
  },
  {
   "cell_type": "code",
   "execution_count": 27,
   "id": "88a696e8",
   "metadata": {},
   "outputs": [
    {
     "name": "stdout",
     "output_type": "stream",
     "text": [
      "100%|██████████| 7/7 [04:39<00:00, 39.96s/trial, best loss: -0.784741888014802] \n",
      "Наилучшие значения гиперпараметров {'C': 0.17, 'penalty': 1, 'solver': 1}\n",
      "CPU times: total: 406 ms\n",
      "Wall time: 4min 39s\n"
     ]
    }
   ],
   "source": [
    "%%time\n",
    "# начинаем подбор гиперпараметров\n",
    "trials = Trials() # используется для логирования результатов\n",
    "\n",
    "best=fmin(hyperopt_lr, # наша функция \n",
    "          space=space, # пространство гиперпараметров\n",
    "          algo=tpe.suggest, # алгоритм оптимизации, установлен по умолчанию, задавать необязательно\n",
    "          max_evals=10, # максимальное количество итераций\n",
    "          trials=trials, # логирование результатов\n",
    "          rstate=np.random.default_rng(random_state) # фиксируем для повторяемости результата\n",
    ")\n",
    "print(f'Наилучшие значения гиперпараметров {best}')"
   ]
  },
  {
   "cell_type": "markdown",
   "id": "e2c164f0",
   "metadata": {},
   "source": [
    "### Модель логистической регрессии на гиперпараметрах полученных с помощью Hyperopt"
   ]
  },
  {
   "cell_type": "code",
   "execution_count": 29,
   "id": "8704484a",
   "metadata": {},
   "outputs": [
    {
     "name": "stdout",
     "output_type": "stream",
     "text": [
      "f1_score на train наборе: 0.86\n",
      "f1_score на test наборе: 0.79\n"
     ]
    }
   ],
   "source": [
    "# Создаем объект класса логистическая регрессия\n",
    "model = linear_model.LogisticRegression(C=best['C'], \n",
    "                                          penalty=penalty_lst[best['penalty']], \n",
    "                                          solver=solver_lst[best['solver']], \n",
    "                                          max_iter=10000)\n",
    "\n",
    "# Обучаем модель, минимизируя logloss\n",
    "model.fit(X_train, y_train)\n",
    "y_train_pred = model.predict(X_train)\n",
    "y_test_pred = model.predict(X_test)\n",
    "\n",
    "print(f'f1_score на train наборе: {metrics.f1_score(y_train, y_train_pred):.2f}')\n",
    "print(f'f1_score на test наборе: {metrics.f1_score(y_test, y_test_pred):.2f}')"
   ]
  },
  {
   "cell_type": "markdown",
   "id": "8a16ca9a",
   "metadata": {},
   "source": [
    "Получено улучшение значения метрики на тестовой выборке при существенном уменьшений времени на обучение"
   ]
  },
  {
   "cell_type": "markdown",
   "id": "3c7c5761",
   "metadata": {},
   "source": [
    "### Optuna"
   ]
  },
  {
   "cell_type": "code",
   "execution_count": 16,
   "id": "2d0dd53b",
   "metadata": {},
   "outputs": [],
   "source": [
    "import optuna"
   ]
  },
  {
   "cell_type": "code",
   "execution_count": 33,
   "id": "1b506a5f",
   "metadata": {},
   "outputs": [],
   "source": [
    "def optuna_lr(trial, cv=5, X=X_train, y=y_train):\n",
    "  # задаем пространства поиска гиперпараметров\n",
    "  solver0 = trial.suggest_categorical('solver0', ['liblinear', 'saga', 'lbfgs', 'sag']) # алгоритм оптимизации\n",
    "  C = trial.suggest_float(name='C', low=0.01, high=1, step=0.01) # уровень силы регурялизации\n",
    "  \n",
    "  if solver0 == 'sag' or solver0 == 'lbfgs':\n",
    "    penalty = trial.suggest_categorical('penalty1', ['l2', 'none'])\n",
    "    solver = trial.suggest_categorical('solver1', ['lbfgs', 'sag'])\n",
    "  else:\n",
    "    penalty = trial.suggest_categorical('penalty2', ['l1', 'l2'])\n",
    "    solver = trial.suggest_categorical('solver2', ['liblinear', 'saga'])\n",
    " \n",
    "  model = linear_model.LogisticRegression(solver=solver,\n",
    "                                          C=C,\n",
    "                                          penalty=penalty,\n",
    "                                          max_iter=10000)\n",
    "     \n",
    "  if cv > 0:\n",
    "    # Создаём объект кросс-валидатора k-fold со стратификацией\n",
    "    skf = StratifiedKFold(n_splits=cv, shuffle=True, random_state=random_state)\n",
    "    \n",
    "    # Считаем метрики на кросс-валидации k-fold со стратификацией\n",
    "    cv_metrics = model_selection.cross_validate(\n",
    "        estimator=model, # модель\n",
    "        X=X, # матрица наблюдений X\n",
    "        y=y, # вектор ответов y\n",
    "        cv=skf, # кросс-валидатор\n",
    "        scoring='f1', # метрика\n",
    "        n_jobs=-1,\n",
    "        return_train_score=False # подсчёт метрики на тренировочных фолдах\n",
    "    )\n",
    "    score = np.mean(cv_metrics['test_score'])\n",
    "  else:\n",
    "    # обучаем модель без кросс-валидации\n",
    "    model.fit(X, y)\n",
    "    score = metrics.f1_score(y, model.predict(X))\n",
    "  \n",
    "  return score"
   ]
  },
  {
   "cell_type": "code",
   "execution_count": 34,
   "id": "dff4e44c",
   "metadata": {},
   "outputs": [
    {
     "name": "stderr",
     "output_type": "stream",
     "text": [
      "\u001b[32m[I 2022-09-17 17:25:48,317]\u001b[0m A new study created in memory with name: LogisticRegression\u001b[0m\n",
      "\u001b[32m[I 2022-09-17 17:25:49,777]\u001b[0m Trial 0 finished with value: 0.7766892475656103 and parameters: {'solver0': 'liblinear', 'C': 0.75, 'penalty2': 'l1', 'solver2': 'liblinear'}. Best is trial 0 with value: 0.7766892475656103.\u001b[0m\n",
      "\u001b[32m[I 2022-09-17 17:25:51,129]\u001b[0m Trial 1 finished with value: 0.7762181620109898 and parameters: {'solver0': 'saga', 'C': 0.78, 'penalty2': 'l1', 'solver2': 'liblinear'}. Best is trial 0 with value: 0.7766892475656103.\u001b[0m\n",
      "\u001b[32m[I 2022-09-17 17:25:52,246]\u001b[0m Trial 2 finished with value: 0.7693796880367267 and parameters: {'solver0': 'saga', 'C': 0.77, 'penalty2': 'l2', 'solver2': 'liblinear'}. Best is trial 0 with value: 0.7766892475656103.\u001b[0m\n",
      "\u001b[32m[I 2022-09-17 17:30:15,948]\u001b[0m Trial 3 finished with value: 0.7349104774147304 and parameters: {'solver0': 'lbfgs', 'C': 0.76, 'penalty1': 'none', 'solver1': 'sag'}. Best is trial 0 with value: 0.7766892475656103.\u001b[0m\n",
      "\u001b[32m[I 2022-09-17 17:30:16,933]\u001b[0m Trial 4 finished with value: 0.773266426563122 and parameters: {'solver0': 'saga', 'C': 0.61, 'penalty2': 'l2', 'solver2': 'liblinear'}. Best is trial 0 with value: 0.7766892475656103.\u001b[0m\n",
      "\u001b[32m[I 2022-09-17 17:30:35,100]\u001b[0m Trial 5 finished with value: 0.785518672507064 and parameters: {'solver0': 'lbfgs', 'C': 0.14, 'penalty1': 'l2', 'solver1': 'sag'}. Best is trial 5 with value: 0.785518672507064.\u001b[0m\n",
      "\u001b[32m[I 2022-09-17 17:30:35,987]\u001b[0m Trial 6 finished with value: 0.7870028171445476 and parameters: {'solver0': 'liblinear', 'C': 0.3, 'penalty2': 'l1', 'solver2': 'liblinear'}. Best is trial 6 with value: 0.7870028171445476.\u001b[0m\n",
      "\u001b[32m[I 2022-09-17 17:30:39,223]\u001b[0m Trial 7 finished with value: 0.7843634765864509 and parameters: {'solver0': 'lbfgs', 'C': 0.2, 'penalty1': 'l2', 'solver1': 'lbfgs'}. Best is trial 6 with value: 0.7870028171445476.\u001b[0m\n",
      "\u001b[32m[I 2022-09-17 17:34:53,664]\u001b[0m Trial 8 finished with value: 0.7349104774147304 and parameters: {'solver0': 'lbfgs', 'C': 0.09999999999999999, 'penalty1': 'none', 'solver1': 'sag'}. Best is trial 6 with value: 0.7870028171445476.\u001b[0m\n",
      "\u001b[32m[I 2022-09-17 17:39:14,290]\u001b[0m Trial 9 finished with value: 0.7351339959231532 and parameters: {'solver0': 'sag', 'C': 0.47000000000000003, 'penalty1': 'none', 'solver1': 'sag'}. Best is trial 6 with value: 0.7870028171445476.\u001b[0m\n"
     ]
    },
    {
     "name": "stdout",
     "output_type": "stream",
     "text": [
      "CPU times: total: 484 ms\n",
      "Wall time: 13min 25s\n"
     ]
    }
   ],
   "source": [
    "%%time\n",
    "# cоздаем объект исследования, указываем максимизацию метрики f1\n",
    "study = optuna.create_study(study_name='LogisticRegression', direction='maximize')\n",
    "\n",
    "# ищем лучшую комбинацию гиперпараметров n_trials раз\n",
    "study.optimize(optuna_lr, n_trials=10)"
   ]
  },
  {
   "cell_type": "code",
   "execution_count": 35,
   "id": "314faacd",
   "metadata": {},
   "outputs": [
    {
     "name": "stdout",
     "output_type": "stream",
     "text": [
      "Best f1 value: 0.7870028171445476\n",
      "Best params: {'solver0': 'liblinear', 'C': 0.3, 'penalty2': 'l1', 'solver2': 'liblinear'}\n"
     ]
    }
   ],
   "source": [
    "print('Best f1 value:', study.best_value)\n",
    "print('Best params:', study.best_params)"
   ]
  },
  {
   "cell_type": "markdown",
   "id": "3265d6c7",
   "metadata": {},
   "source": [
    "### Модель логистической регрессии на гиперпараметрах полученных с помощью Optuna"
   ]
  },
  {
   "cell_type": "code",
   "execution_count": 36,
   "id": "4b651977",
   "metadata": {},
   "outputs": [
    {
     "name": "stdout",
     "output_type": "stream",
     "text": [
      "f1_score на train наборе: 0.84\n",
      "f1_score на test наборе: 0.78\n"
     ]
    }
   ],
   "source": [
    "# Создаем объект класса логистическая регрессия\n",
    "model = linear_model.LogisticRegression(C=0.3, penalty='l1', solver='liblinear', max_iter=10000)\n",
    "\n",
    "# Обучаем модель, минимизируя logloss\n",
    "model.fit(X_train, y_train)\n",
    "y_train_pred = model.predict(X_train)\n",
    "y_test_pred = model.predict(X_test)\n",
    "\n",
    "print(f'f1_score на train наборе: {metrics.f1_score(y_train, y_train_pred):.2f}')\n",
    "print(f'f1_score на test наборе: {metrics.f1_score(y_test, y_test_pred):.2f}')"
   ]
  },
  {
   "cell_type": "markdown",
   "id": "d89b7457",
   "metadata": {},
   "source": [
    "# ***Случайный лес***\n",
    "### С гиперпараметрами по умолчанию"
   ]
  },
  {
   "cell_type": "code",
   "execution_count": 27,
   "id": "0e4a1f53",
   "metadata": {},
   "outputs": [
    {
     "name": "stdout",
     "output_type": "stream",
     "text": [
      "f1_score на train наборе: 1.00\n",
      "f1_score на test наборе: 0.80\n"
     ]
    }
   ],
   "source": [
    "# Создаем объект класса случайный лес\n",
    "model = ensemble.RandomForestClassifier(random_state=random_state)\n",
    "\n",
    "# Обучаем модель\n",
    "model.fit(X_train, y_train)\n",
    "y_train_pred = model.predict(X_train)\n",
    "y_test_pred = model.predict(X_test)\n",
    "\n",
    "print(f'f1_score на train наборе: {metrics.f1_score(y_train, y_train_pred):.2f}')\n",
    "print(f'f1_score на test наборе: {metrics.f1_score(y_test, y_test_pred):.2f}')"
   ]
  },
  {
   "cell_type": "markdown",
   "id": "c4fb1d78",
   "metadata": {},
   "source": [
    "## Подбор гиперпараметров\n",
    "#### GridSearchCV для алгоритма случайного леса"
   ]
  },
  {
   "cell_type": "code",
   "execution_count": 22,
   "id": "238034f6",
   "metadata": {},
   "outputs": [
    {
     "name": "stdout",
     "output_type": "stream",
     "text": [
      "CPU times: total: 35 s\n",
      "Wall time: 23min 24s\n",
      "f1_score на train наборе: 0.92\n",
      "f1_score на test наборе: 0.79\n",
      "Наилучшие значения гиперпараметров: {'max_depth': 14, 'min_samples_leaf': 6, 'n_estimators': 110}\n"
     ]
    }
   ],
   "source": [
    "param_grid = {'n_estimators': list(range(80, 200, 30)),\n",
    "              'min_samples_leaf': list(np.linspace(5, 100, 50, dtype=int)),\n",
    "              'max_depth': list(np.linspace(1, 40, 10, dtype=int))\n",
    "              }\n",
    "\n",
    "model = ensemble.RandomForestClassifier(random_state=random_state)\n",
    "\n",
    "grid_search = GridSearchCV(\n",
    "    estimator=model,\n",
    "    param_grid=param_grid,\n",
    "    cv=5,\n",
    "    n_jobs=-1,\n",
    "    scoring='f1'\n",
    ")\n",
    "\n",
    "%time grid_search.fit(X_train, y_train)\n",
    "y_train_pred = grid_search.predict(X_train)\n",
    "y_test_pred = grid_search.predict(X_test)\n",
    "\n",
    "print(f'f1_score на train наборе: {metrics.f1_score(y_train, y_train_pred):.2f}')\n",
    "print(f'f1_score на test наборе: {metrics.f1_score(y_test, y_test_pred):.2f}')\n",
    "print(f'Наилучшие значения гиперпараметров: {grid_search.best_params_}')"
   ]
  },
  {
   "cell_type": "markdown",
   "id": "7eca18ff",
   "metadata": {},
   "source": [
    "#### GridSearchCV для алгоритма случайного леса с кросс-валидацией"
   ]
  },
  {
   "cell_type": "code",
   "execution_count": 23,
   "id": "ebdfae9d",
   "metadata": {},
   "outputs": [
    {
     "name": "stdout",
     "output_type": "stream",
     "text": [
      "CPU times: total: 34.7 s\n",
      "Wall time: 22min 52s\n",
      "f1_score на train наборе: 0.94\n",
      "f1_score на test наборе: 0.80\n",
      "Наилучшие значения гиперпараметров: {'max_depth': 27, 'min_samples_leaf': 5, 'n_estimators': 140}\n"
     ]
    }
   ],
   "source": [
    "param_grid = {'n_estimators': list(range(80, 200, 30)),\n",
    "              'min_samples_leaf': list(np.linspace(5, 100, 50, dtype=int)),\n",
    "              'max_depth': list(np.linspace(1, 40, 10, dtype=int))\n",
    "              }\n",
    "\n",
    "model = ensemble.RandomForestClassifier(random_state=random_state)\n",
    "skf = StratifiedKFold(n_splits=5, shuffle=True, random_state=random_state)\n",
    "\n",
    "grid_search = GridSearchCV(\n",
    "    estimator=model,\n",
    "    param_grid=param_grid,\n",
    "    cv=skf,\n",
    "    n_jobs=-1,\n",
    "    scoring='f1'\n",
    ")\n",
    "\n",
    "%time grid_search.fit(X_train, y_train)\n",
    "y_train_pred = grid_search.predict(X_train)\n",
    "y_test_pred = grid_search.predict(X_test)\n",
    "\n",
    "print(f'f1_score на train наборе: {metrics.f1_score(y_train, y_train_pred):.2f}')\n",
    "print(f'f1_score на test наборе: {metrics.f1_score(y_test, y_test_pred):.2f}')\n",
    "print(f'Наилучшие значения гиперпараметров: {grid_search.best_params_}')"
   ]
  },
  {
   "cell_type": "markdown",
   "id": "dfd1f7a6",
   "metadata": {},
   "source": [
    "### RandomizedSearchCV для алгоритма случайного леса с кросс-валидацией"
   ]
  },
  {
   "cell_type": "code",
   "execution_count": 25,
   "id": "a0313262",
   "metadata": {},
   "outputs": [
    {
     "name": "stdout",
     "output_type": "stream",
     "text": [
      "CPU times: total: 1.39 s\n",
      "Wall time: 8.36 s\n",
      "f1_score на train наборе: 0.93\n",
      "f1_score на test наборе: 0.80\n",
      "Наилучшие значения гиперпараметров: {'n_estimators': 110, 'min_samples_leaf': 6, 'max_depth': 22}\n"
     ]
    }
   ],
   "source": [
    "param_distributions = {'n_estimators': list(range(80, 200, 30)),\n",
    "              'min_samples_leaf': list(np.linspace(5, 100, 50, dtype=int)),\n",
    "              'max_depth': list(np.linspace(1, 40, 10, dtype=int))\n",
    "              }\n",
    "\n",
    "model = ensemble.RandomForestClassifier(random_state=random_state)\n",
    "skf = StratifiedKFold(n_splits=5, shuffle=True, random_state=random_state)      \n",
    "\n",
    "random_search = RandomizedSearchCV(\n",
    "    estimator=model,\n",
    "    param_distributions=param_distributions,\n",
    "    cv=skf,\n",
    "    n_jobs=-1,\n",
    "    scoring='f1'\n",
    ")\n",
    "\n",
    "%time random_search.fit(X_train, y_train)\n",
    "y_train_pred = random_search.predict(X_train)\n",
    "y_test_pred = random_search.predict(X_test)\n",
    "\n",
    "print(f'f1_score на train наборе: {metrics.f1_score(y_train, y_train_pred):.2f}')\n",
    "print(f'f1_score на test наборе: {metrics.f1_score(y_test, y_test_pred):.2f}')\n",
    "print(f'Наилучшие значения гиперпараметров: {random_search.best_params_}')"
   ]
  },
  {
   "cell_type": "markdown",
   "id": "fda5cf43",
   "metadata": {},
   "source": [
    "### Hyperopt"
   ]
  },
  {
   "cell_type": "code",
   "execution_count": 44,
   "id": "133160f0",
   "metadata": {},
   "outputs": [],
   "source": [
    "space = {\n",
    "    'n_estimators': hp.quniform('n_estimators', 50, 300, 1),\n",
    "    'min_samples_leaf': hp.quniform('min_samples_leaf', 5, 100, 1),\n",
    "    'max_depth': hp.quniform('max_depth', 1, 100, 1)\n",
    "}"
   ]
  },
  {
   "cell_type": "code",
   "execution_count": 45,
   "id": "75c5801e",
   "metadata": {},
   "outputs": [],
   "source": [
    "def hyperopt_rf(params, cv=5, X=X_train, y=y_train, random_state=random_state):\n",
    "    params = {'n_estimators': int(params['n_estimators']),\n",
    "              'min_samples_leaf': int(params['min_samples_leaf']), \n",
    "              'max_depth': int(params['max_depth'])\n",
    "    }\n",
    "    \n",
    "    # создаем модель\n",
    "    model = ensemble.RandomForestClassifier(**params, random_state=random_state)\n",
    "    \n",
    "    if cv > 0:\n",
    "        # Создаём объект кросс-валидатора k-fold со стратификацией\n",
    "        skf = StratifiedKFold(n_splits=cv, shuffle=True, random_state=random_state)\n",
    "        \n",
    "        # Считаем метрики на кросс-валидации k-fold со стратификацией\n",
    "        cv_metrics = model_selection.cross_validate(\n",
    "            estimator=model, # модель\n",
    "            X=X, # матрица наблюдений X\n",
    "            y=y, # вектор ответов y\n",
    "            cv=skf, # кросс-валидатор\n",
    "            scoring='f1', # метрика\n",
    "            n_jobs=-1, # использовать все ядра\n",
    "            return_train_score=False # подсчёт метрики на тренировочных фолдах\n",
    "        )\n",
    "        score = np.mean(cv_metrics['test_score'])\n",
    "    else:\n",
    "        # обучаем модель без кросс валидации\n",
    "        model.fit(X, y)\n",
    "        score = metrics.f1_score(y, model.predict(X))\n",
    "\n",
    "    # метрику необходимо минимизировать, поэтому ставим знак минус\n",
    "    return -score"
   ]
  },
  {
   "cell_type": "code",
   "execution_count": 46,
   "id": "661c0cf6",
   "metadata": {},
   "outputs": [
    {
     "name": "stdout",
     "output_type": "stream",
     "text": [
      "100%|██████████| 30/30 [00:54<00:00,  1.81s/trial, best loss: -0.8109690514497506]\n",
      "Наилучшие значения гиперпараметров {'max_depth': 19.0, 'min_samples_leaf': 5.0, 'n_estimators': 151.0}\n",
      "CPU times: total: 2.2 s\n",
      "Wall time: 54.2 s\n"
     ]
    }
   ],
   "source": [
    "%%time\n",
    "# начинаем подбор гиперпараметров\n",
    "trials = Trials() # используется для логирования результатов\n",
    "\n",
    "best=fmin(hyperopt_rf, # наша функция \n",
    "          space=space, # пространство гиперпараметров\n",
    "          algo=tpe.suggest, # алгоритм оптимизации, установлен по умолчанию, задавать необязательно\n",
    "          max_evals=30, # максимальное количество итераций\n",
    "          trials=trials, # логирование результатов\n",
    "          rstate=np.random.default_rng(random_state) # фиксируем для повторяемости результата\n",
    ")\n",
    "print(f'Наилучшие значения гиперпараметров {best}')"
   ]
  },
  {
   "cell_type": "code",
   "execution_count": 48,
   "id": "a72016c3",
   "metadata": {},
   "outputs": [],
   "source": [
    "# Для словаря найденных параметров делаю округление и приведение типов к целому\n",
    "best = {key: int(val.round()) for (key, val) in best.items()}"
   ]
  },
  {
   "cell_type": "markdown",
   "id": "2a5d9099",
   "metadata": {},
   "source": [
    "### Модель случайного леса на гиперпараметрах полученных с помощью Hyperopt"
   ]
  },
  {
   "cell_type": "code",
   "execution_count": 49,
   "id": "024d97b3",
   "metadata": {},
   "outputs": [
    {
     "name": "stdout",
     "output_type": "stream",
     "text": [
      "f1_score на train наборе: 0.94\n",
      "f1_score на test наборе: 0.80\n"
     ]
    }
   ],
   "source": [
    "# Создаем объект класса случайный лес\n",
    "model = ensemble.RandomForestClassifier(**best, random_state=random_state)\n",
    "\n",
    "# Обучаем модель\n",
    "model.fit(X_train, y_train)\n",
    "y_train_pred = model.predict(X_train)\n",
    "y_test_pred = model.predict(X_test)\n",
    "\n",
    "print(f'f1_score на train наборе: {metrics.f1_score(y_train, y_train_pred):.2f}')\n",
    "print(f'f1_score на test наборе: {metrics.f1_score(y_test, y_test_pred):.2f}')"
   ]
  },
  {
   "cell_type": "markdown",
   "id": "85584000",
   "metadata": {},
   "source": [
    "### Optuna"
   ]
  },
  {
   "cell_type": "code",
   "execution_count": 50,
   "id": "5d6bb766",
   "metadata": {},
   "outputs": [],
   "source": [
    "def optuna_rf(trial, cv=5, X=X_train, y=y_train):\n",
    "  params = {'n_estimators': trial.suggest_int('n_estimators', 50, 300, 1),\n",
    "              'min_samples_leaf': trial.suggest_int('min_samples_leaf', 5, 100, 1),\n",
    "              'max_depth': trial.suggest_int('max_depth', 1, 100, 1)\n",
    "    }\n",
    " \n",
    "  # создаем модель\n",
    "  model = ensemble.RandomForestClassifier(**params, random_state=random_state)\n",
    "  \n",
    "  if cv > 0:\n",
    "    # Создаём объект кросс-валидатора k-fold со стратификацией\n",
    "    skf = StratifiedKFold(n_splits=cv, shuffle=True, random_state=random_state)\n",
    "    \n",
    "    # Считаем метрики на кросс-валидации k-fold со стратификацией\n",
    "    cv_metrics = model_selection.cross_validate(\n",
    "        estimator=model, # модель\n",
    "        X=X, # матрица наблюдений X\n",
    "        y=y, # вектор ответов y\n",
    "        cv=skf, # кросс-валидатор\n",
    "        scoring='f1', # метрика\n",
    "        n_jobs=-1,\n",
    "        return_train_score=False # подсчёт метрики на тренировочных фолдах\n",
    "    )\n",
    "    score = np.mean(cv_metrics['test_score'])\n",
    "  else:\n",
    "    # обучаем модель без кросс-валидации\n",
    "    model.fit(X, y)\n",
    "    score = metrics.f1_score(y, model.predict(X))\n",
    "  \n",
    "  return score"
   ]
  },
  {
   "cell_type": "code",
   "execution_count": 51,
   "id": "054455e7",
   "metadata": {},
   "outputs": [
    {
     "name": "stderr",
     "output_type": "stream",
     "text": [
      "\u001b[32m[I 2022-09-17 15:31:31,320]\u001b[0m A new study created in memory with name: RandomForestClassifier\u001b[0m\n",
      "\u001b[32m[I 2022-09-17 15:31:34,062]\u001b[0m Trial 0 finished with value: 0.7713618772053892 and parameters: {'n_estimators': 135, 'min_samples_leaf': 31, 'max_depth': 72}. Best is trial 0 with value: 0.7713618772053892.\u001b[0m\n",
      "\u001b[32m[I 2022-09-17 15:31:35,616]\u001b[0m Trial 1 finished with value: 0.7570149466974554 and parameters: {'n_estimators': 75, 'min_samples_leaf': 12, 'max_depth': 5}. Best is trial 0 with value: 0.7713618772053892.\u001b[0m\n",
      "\u001b[32m[I 2022-09-17 15:31:37,391]\u001b[0m Trial 2 finished with value: 0.7518521412023664 and parameters: {'n_estimators': 238, 'min_samples_leaf': 68, 'max_depth': 10}. Best is trial 0 with value: 0.7713618772053892.\u001b[0m\n",
      "\u001b[32m[I 2022-09-17 15:31:38,929]\u001b[0m Trial 3 finished with value: 0.7884175539859724 and parameters: {'n_estimators': 127, 'min_samples_leaf': 18, 'max_depth': 18}. Best is trial 3 with value: 0.7884175539859724.\u001b[0m\n",
      "\u001b[32m[I 2022-09-17 15:31:40,740]\u001b[0m Trial 4 finished with value: 0.812954102066192 and parameters: {'n_estimators': 107, 'min_samples_leaf': 5, 'max_depth': 19}. Best is trial 4 with value: 0.812954102066192.\u001b[0m\n",
      "\u001b[32m[I 2022-09-17 15:31:41,569]\u001b[0m Trial 5 finished with value: 0.7540246682169764 and parameters: {'n_estimators': 71, 'min_samples_leaf': 68, 'max_depth': 52}. Best is trial 4 with value: 0.812954102066192.\u001b[0m\n",
      "\u001b[32m[I 2022-09-17 15:31:42,477]\u001b[0m Trial 6 finished with value: 0.7415626432662286 and parameters: {'n_estimators': 94, 'min_samples_leaf': 93, 'max_depth': 80}. Best is trial 4 with value: 0.812954102066192.\u001b[0m\n",
      "\u001b[32m[I 2022-09-17 15:31:44,147]\u001b[0m Trial 7 finished with value: 0.7441952301710171 and parameters: {'n_estimators': 265, 'min_samples_leaf': 94, 'max_depth': 8}. Best is trial 4 with value: 0.812954102066192.\u001b[0m\n",
      "\u001b[32m[I 2022-09-17 15:31:45,035]\u001b[0m Trial 8 finished with value: 0.7531686997089414 and parameters: {'n_estimators': 93, 'min_samples_leaf': 66, 'max_depth': 7}. Best is trial 4 with value: 0.812954102066192.\u001b[0m\n",
      "\u001b[32m[I 2022-09-17 15:31:46,646]\u001b[0m Trial 9 finished with value: 0.7719519100511516 and parameters: {'n_estimators': 157, 'min_samples_leaf': 27, 'max_depth': 77}. Best is trial 4 with value: 0.812954102066192.\u001b[0m\n",
      "\u001b[32m[I 2022-09-17 15:31:48,450]\u001b[0m Trial 10 finished with value: 0.7608676268626671 and parameters: {'n_estimators': 218, 'min_samples_leaf': 45, 'max_depth': 32}. Best is trial 4 with value: 0.812954102066192.\u001b[0m\n",
      "\u001b[32m[I 2022-09-17 15:31:50,437]\u001b[0m Trial 11 finished with value: 0.7992655075452648 and parameters: {'n_estimators': 135, 'min_samples_leaf': 9, 'max_depth': 32}. Best is trial 4 with value: 0.812954102066192.\u001b[0m\n",
      "\u001b[32m[I 2022-09-17 15:31:52,917]\u001b[0m Trial 12 finished with value: 0.801793374238477 and parameters: {'n_estimators': 181, 'min_samples_leaf': 8, 'max_depth': 40}. Best is trial 4 with value: 0.812954102066192.\u001b[0m\n",
      "\u001b[32m[I 2022-09-17 15:31:55,760]\u001b[0m Trial 13 finished with value: 0.8071982680559235 and parameters: {'n_estimators': 197, 'min_samples_leaf': 6, 'max_depth': 50}. Best is trial 4 with value: 0.812954102066192.\u001b[0m\n",
      "\u001b[32m[I 2022-09-17 15:31:57,499]\u001b[0m Trial 14 finished with value: 0.7632392566548588 and parameters: {'n_estimators': 203, 'min_samples_leaf': 40, 'max_depth': 62}. Best is trial 4 with value: 0.812954102066192.\u001b[0m\n",
      "\u001b[32m[I 2022-09-17 15:32:00,284]\u001b[0m Trial 15 finished with value: 0.7798965910248893 and parameters: {'n_estimators': 290, 'min_samples_leaf': 23, 'max_depth': 98}. Best is trial 4 with value: 0.812954102066192.\u001b[0m\n",
      "\u001b[32m[I 2022-09-17 15:32:01,673]\u001b[0m Trial 16 finished with value: 0.7549782427615179 and parameters: {'n_estimators': 172, 'min_samples_leaf': 55, 'max_depth': 24}. Best is trial 4 with value: 0.812954102066192.\u001b[0m\n",
      "\u001b[32m[I 2022-09-17 15:32:02,831]\u001b[0m Trial 17 finished with value: 0.7985109666910931 and parameters: {'n_estimators': 53, 'min_samples_leaf': 5, 'max_depth': 49}. Best is trial 4 with value: 0.812954102066192.\u001b[0m\n",
      "\u001b[32m[I 2022-09-17 15:32:04,644]\u001b[0m Trial 18 finished with value: 0.7623753164757994 and parameters: {'n_estimators': 201, 'min_samples_leaf': 36, 'max_depth': 49}. Best is trial 4 with value: 0.812954102066192.\u001b[0m\n",
      "\u001b[32m[I 2022-09-17 15:32:06,101]\u001b[0m Trial 19 finished with value: 0.780092084275694 and parameters: {'n_estimators': 116, 'min_samples_leaf': 21, 'max_depth': 89}. Best is trial 4 with value: 0.812954102066192.\u001b[0m\n",
      "\u001b[32m[I 2022-09-17 15:32:08,056]\u001b[0m Trial 20 finished with value: 0.7883842393059629 and parameters: {'n_estimators': 158, 'min_samples_leaf': 14, 'max_depth': 62}. Best is trial 4 with value: 0.812954102066192.\u001b[0m\n",
      "\u001b[32m[I 2022-09-17 15:32:10,376]\u001b[0m Trial 21 finished with value: 0.8008040984060851 and parameters: {'n_estimators': 186, 'min_samples_leaf': 10, 'max_depth': 40}. Best is trial 4 with value: 0.812954102066192.\u001b[0m\n",
      "\u001b[32m[I 2022-09-17 15:32:13,351]\u001b[0m Trial 22 finished with value: 0.8080457042008822 and parameters: {'n_estimators': 225, 'min_samples_leaf': 7, 'max_depth': 31}. Best is trial 4 with value: 0.812954102066192.\u001b[0m\n",
      "\u001b[32m[I 2022-09-17 15:32:16,792]\u001b[0m Trial 23 finished with value: 0.8091336506671235 and parameters: {'n_estimators': 232, 'min_samples_leaf': 5, 'max_depth': 24}. Best is trial 4 with value: 0.812954102066192.\u001b[0m\n",
      "\u001b[32m[I 2022-09-17 15:32:19,278]\u001b[0m Trial 24 finished with value: 0.7866757618018677 and parameters: {'n_estimators': 230, 'min_samples_leaf': 19, 'max_depth': 20}. Best is trial 4 with value: 0.812954102066192.\u001b[0m\n",
      "\u001b[32m[I 2022-09-17 15:32:20,953]\u001b[0m Trial 25 finished with value: 0.7487099196885804 and parameters: {'n_estimators': 252, 'min_samples_leaf': 81, 'max_depth': 30}. Best is trial 4 with value: 0.812954102066192.\u001b[0m\n",
      "\u001b[32m[I 2022-09-17 15:32:23,114]\u001b[0m Trial 26 finished with value: 0.754864550795183 and parameters: {'n_estimators': 278, 'min_samples_leaf': 51, 'max_depth': 17}. Best is trial 4 with value: 0.812954102066192.\u001b[0m\n",
      "\u001b[32m[I 2022-09-17 15:32:25,121]\u001b[0m Trial 27 finished with value: 0.7709726547716297 and parameters: {'n_estimators': 220, 'min_samples_leaf': 30, 'max_depth': 38}. Best is trial 4 with value: 0.812954102066192.\u001b[0m\n",
      "\u001b[32m[I 2022-09-17 15:32:27,655]\u001b[0m Trial 28 finished with value: 0.7843589914828699 and parameters: {'n_estimators': 245, 'min_samples_leaf': 20, 'max_depth': 24}. Best is trial 4 with value: 0.812954102066192.\u001b[0m\n",
      "\u001b[32m[I 2022-09-17 15:32:29,240]\u001b[0m Trial 29 finished with value: 0.7710651810787448 and parameters: {'n_estimators': 152, 'min_samples_leaf': 32, 'max_depth': 14}. Best is trial 4 with value: 0.812954102066192.\u001b[0m\n"
     ]
    },
    {
     "name": "stdout",
     "output_type": "stream",
     "text": [
      "CPU times: total: 2.03 s\n",
      "Wall time: 57.9 s\n"
     ]
    }
   ],
   "source": [
    "%%time\n",
    "# cоздаем объект исследования\n",
    "# можем напрямую указать, что нам необходимо максимизировать метрику через direction\n",
    "study = optuna.create_study(study_name='RandomForestClassifier', direction='maximize')\n",
    "\n",
    "# ищем лучшую комбинацию гиперпараметров n_trials раз\n",
    "study.optimize(optuna_rf, n_trials=30)"
   ]
  },
  {
   "cell_type": "code",
   "execution_count": 52,
   "id": "7282c670",
   "metadata": {},
   "outputs": [
    {
     "name": "stdout",
     "output_type": "stream",
     "text": [
      "Best f1 value: 0.812954102066192\n",
      "Best params: {'n_estimators': 107, 'min_samples_leaf': 5, 'max_depth': 19}\n"
     ]
    }
   ],
   "source": [
    "print('Best f1 value:', study.best_value)\n",
    "print('Best params:', study.best_params)"
   ]
  },
  {
   "cell_type": "markdown",
   "id": "84ebc65d",
   "metadata": {},
   "source": [
    "### Модель случайного леса на гиперпараметрах полученных с помощью Optuna"
   ]
  },
  {
   "cell_type": "code",
   "execution_count": 53,
   "id": "0172b264",
   "metadata": {},
   "outputs": [
    {
     "name": "stdout",
     "output_type": "stream",
     "text": [
      "f1_score на train наборе: 0.94\n",
      "f1_score на test наборе: 0.80\n"
     ]
    }
   ],
   "source": [
    "# Создаем объект класса случайный лес\n",
    "model = ensemble.RandomForestClassifier(**study.best_params, random_state=random_state)\n",
    "\n",
    "# Обучаем модель\n",
    "model.fit(X_train, y_train)\n",
    "y_train_pred = model.predict(X_train)\n",
    "y_test_pred = model.predict(X_test)\n",
    "\n",
    "print(f'f1_score на train наборе: {metrics.f1_score(y_train, y_train_pred):.2f}')\n",
    "print(f'f1_score на test наборе: {metrics.f1_score(y_test, y_test_pred):.2f}')"
   ]
  },
  {
   "cell_type": "code",
   "execution_count": null,
   "id": "e0497408",
   "metadata": {},
   "outputs": [],
   "source": []
  }
 ],
 "metadata": {
  "colab": {
   "collapsed_sections": [
    "ezanmTbEaAOe",
    "8lbyun1kaAOy",
    "M20nsIRfaAP-"
   ],
   "name": "ML-7.Optimization of hyperparameters.ipynb",
   "provenance": []
  },
  "kernelspec": {
   "display_name": "Python 3.9.10 64-bit",
   "language": "python",
   "name": "python3"
  },
  "language_info": {
   "codemirror_mode": {
    "name": "ipython",
    "version": 3
   },
   "file_extension": ".py",
   "mimetype": "text/x-python",
   "name": "python",
   "nbconvert_exporter": "python",
   "pygments_lexer": "ipython3",
   "version": "3.9.10"
  },
  "vscode": {
   "interpreter": {
    "hash": "ce0e7e8478f0adf4f893607b28490b56060cc6330e9a48291a15f517e7031888"
   }
  }
 },
 "nbformat": 4,
 "nbformat_minor": 5
}
